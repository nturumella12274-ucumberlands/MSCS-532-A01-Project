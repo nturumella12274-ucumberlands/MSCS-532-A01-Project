{
 "cells": [
  {
   "cell_type": "code",
   "execution_count": 7,
   "metadata": {},
   "outputs": [],
   "source": [
    "import random\n",
    "import time\n",
    "import matplotlib.pyplot as plt"
   ]
  },
  {
   "cell_type": "code",
   "execution_count": 8,
   "metadata": {},
   "outputs": [],
   "source": [
    "# Standard matrix multiplication\n",
    "def standard_matrix_multiplication(A, B):\n",
    "    n = len(A)\n",
    "    C = [[0 for _ in range(n)] for _ in range(n)]\n",
    "    for i in range(n):\n",
    "        for j in range(n):\n",
    "            for k in range(n):\n",
    "                C[i][j] += A[i][k] * B[k][j]\n",
    "    return C\n",
    "\n",
    "# Optimized block matrix multiplication\n",
    "def block_matrix_multiplication(A, B, block_size):\n",
    "    n = len(A)\n",
    "    C = [[0 for _ in range(n)] for _ in range(n)]\n",
    "    \n",
    "    for i in range(0, n, block_size):\n",
    "        for j in range(0, n, block_size):\n",
    "            for k in range(0, n, block_size):\n",
    "                # Block multiplication with temporary sub-matrix to reduce cache misses\n",
    "                for ii in range(i, min(i + block_size, n)):\n",
    "                    for kk in range(k, min(k + block_size, n)):\n",
    "                        temp = A[ii][kk]\n",
    "                        for jj in range(j, min(j + block_size, n)):\n",
    "                            C[ii][jj] += temp * B[kk][jj]\n",
    "    \n",
    "    return C"
   ]
  },
  {
   "cell_type": "code",
   "execution_count": null,
   "metadata": {},
   "outputs": [],
   "source": [
    "sizes = [64, 128, 256, 512]  # Different matrix sizes to test\n",
    "block_size = 32  # Block size for optimized multiplication\n",
    "\n",
    "standard_times = []\n",
    "block_times = []\n",
    "\n",
    "for n in sizes:\n",
    "    # Generate random matrices\n",
    "    A = [[random.random() for _ in range(n)] for _ in range(n)]\n",
    "    B = [[random.random() for _ in range(n)] for _ in range(n)]\n",
    "\n",
    "    # Standard matrix multiplication\n",
    "    start_time = time.time()\n",
    "    C_standard = standard_matrix_multiplication(A, B)\n",
    "    standard_time = time.time() - start_time\n",
    "    standard_times.append(standard_time)\n",
    "\n",
    "    # Optimized block matrix multiplication\n",
    "    start_time = time.time()\n",
    "    C_block = block_matrix_multiplication(A, B, block_size)\n",
    "    block_time = time.time() - start_time\n",
    "    block_times.append(block_time)\n",
    "\n",
    "    # Verify correctness\n",
    "    if C_standard != C_block:\n",
    "        print(f\"The results are incorrect for matrix size {n}!\")\n",
    "\n",
    "# Plotting the results\n",
    "plt.figure(figsize=(10, 6))\n",
    "plt.plot(sizes, standard_times, label='Standard Multiplication', marker='o')\n",
    "plt.plot(sizes, block_times, label='Block Multiplication', marker='o')\n",
    "plt.xlabel('Matrix Size (n x n)')\n",
    "plt.ylabel('Time (seconds)')\n",
    "plt.title('Matrix Multiplication Performance Comparison')\n",
    "plt.legend()\n",
    "plt.grid(True)\n",
    "plt.show()"
   ]
  }
 ],
 "metadata": {
  "kernelspec": {
   "display_name": ".venv",
   "language": "python",
   "name": "python3"
  },
  "language_info": {
   "codemirror_mode": {
    "name": "ipython",
    "version": 3
   },
   "file_extension": ".py",
   "mimetype": "text/x-python",
   "name": "python",
   "nbconvert_exporter": "python",
   "pygments_lexer": "ipython3",
   "version": "3.12.6"
  }
 },
 "nbformat": 4,
 "nbformat_minor": 2
}
