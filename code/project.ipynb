{
 "cells": [
  {
   "cell_type": "code",
   "execution_count": 1,
   "metadata": {},
   "outputs": [],
   "source": [
    "import numpy as np\n",
    "import time\n",
    "\n",
    "# Standard matrix multiplication\n",
    "def standard_matrix_multiplication(A, B):\n",
    "    return A @ B\n",
    "\n",
    "# Optimized block matrix multiplication\n",
    "def block_matrix_multiplication(A, B, block_size):\n",
    "    n = A.shape[0]\n",
    "    C = np.zeros((n, n))\n",
    "    \n",
    "    for i in range(0, n, block_size):\n",
    "        for j in range(0, n, block_size):\n",
    "            for k in range(0, n, block_size):\n",
    "                # Block multiplication\n",
    "                for ii in range(i, min(i + block_size, n)):\n",
    "                    for jj in range(j, min(j + block_size, n)):\n",
    "                        for kk in range(k, min(k + block_size, n)):\n",
    "                            C[ii][jj] += A[ii][kk] * B[kk][jj]\n",
    "    \n",
    "    return C\n"
   ]
  },
  {
   "cell_type": "code",
   "execution_count": 2,
   "metadata": {},
   "outputs": [
    {
     "name": "stdout",
     "output_type": "stream",
     "text": [
      "Standard Multiplication Time: 0.0051 seconds\n",
      "Optimized Multiplication Time: 113.4187 seconds\n"
     ]
    }
   ],
   "source": [
    "# Test matrices\n",
    "N = 512  # Size of the matrix\n",
    "A = np.random.rand(N, N)\n",
    "B = np.random.rand(N, N)\n",
    "\n",
    "# Measuring performance\n",
    "start = time.time()\n",
    "C_standard = standard_matrix_multiplication(A, B)\n",
    "end = time.time()\n",
    "print(f\"Standard Multiplication Time: {end - start:.4f} seconds\")\n",
    "\n",
    "start = time.time()\n",
    "C_optimized = block_matrix_multiplication(A, B, block_size=64)\n",
    "end = time.time()\n",
    "print(f\"Optimized Multiplication Time: {end - start:.4f} seconds\")"
   ]
  }
 ],
 "metadata": {
  "kernelspec": {
   "display_name": ".venv",
   "language": "python",
   "name": "python3"
  },
  "language_info": {
   "codemirror_mode": {
    "name": "ipython",
    "version": 3
   },
   "file_extension": ".py",
   "mimetype": "text/x-python",
   "name": "python",
   "nbconvert_exporter": "python",
   "pygments_lexer": "ipython3",
   "version": "3.12.6"
  }
 },
 "nbformat": 4,
 "nbformat_minor": 2
}
